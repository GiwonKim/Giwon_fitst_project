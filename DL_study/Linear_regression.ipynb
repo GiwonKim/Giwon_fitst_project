{
  "nbformat": 4,
  "nbformat_minor": 0,
  "metadata": {
    "colab": {
      "name": "Linear regression.ipynb",
      "provenance": [],
      "collapsed_sections": [],
      "authorship_tag": "ABX9TyPX06xSbTLvEGKCjYdhCIsO",
      "include_colab_link": true
    },
    "kernelspec": {
      "name": "python3",
      "display_name": "Python 3"
    },
    "language_info": {
      "name": "python"
    }
  },
  "cells": [
    {
      "cell_type": "markdown",
      "metadata": {
        "id": "view-in-github",
        "colab_type": "text"
      },
      "source": [
        "<a href=\"https://colab.research.google.com/github/GiwonKim/Giwon_fitst_project/blob/main/DL_study/Linear_regression.ipynb\" target=\"_parent\"><img src=\"https://colab.research.google.com/assets/colab-badge.svg\" alt=\"Open In Colab\"/></a>"
      ]
    },
    {
      "cell_type": "code",
      "metadata": {
        "id": "w-WjdmD805nO"
      },
      "source": [
        "X= list(range(10))\n",
        "Y = [1,1,2,4,5,7,8,9,9,10]"
      ],
      "execution_count": 5,
      "outputs": []
    },
    {
      "cell_type": "markdown",
      "metadata": {
        "id": "_wSNJDBl2qid"
      },
      "source": [
        "임의의 range X와 Y 설정 "
      ]
    },
    {
      "cell_type": "code",
      "metadata": {
        "colab": {
          "base_uri": "https://localhost:8080/",
          "height": 283
        },
        "id": "9N2L09aH2Rec",
        "outputId": "5577caf0-c026-4e84-81e8-129d9d1a8abe"
      },
      "source": [
        "import matplotlib.pyplot as plt\n",
        "plt.plot(X,Y)\n",
        "plt.scatter(X,Y)"
      ],
      "execution_count": 6,
      "outputs": [
        {
          "output_type": "execute_result",
          "data": {
            "text/plain": [
              "<matplotlib.collections.PathCollection at 0x7ff5502335d0>"
            ]
          },
          "metadata": {},
          "execution_count": 6
        },
        {
          "output_type": "display_data",
          "data": {
            "image/png": "[encoded data removed]",
            "text/plain": [
              "<Figure size 432x288 with 1 Axes>"
            ]
          },
          "metadata": {
            "needs_background": "light"
          }
        }
      ]
    },
    {
      "cell_type": "markdown",
      "metadata": {
        "id": "sVMHjj-g2ybx"
      },
      "source": [
        "X,Y 의 그래프 (plot 은 선 그래프, scatter은 점)"
      ]
    },
    {
      "cell_type": "markdown",
      "metadata": {
        "id": "0YMStEka8Y43"
      },
      "source": [
        ""
      ]
    },
    {
      "cell_type": "code",
      "metadata": {
        "colab": {
          "base_uri": "https://localhost:8080/"
        },
        "id": "D4Uar03f24Jv",
        "outputId": "a18e01ad-c19c-4568-91d6-566a0fdc1936"
      },
      "source": [
        "class H():\n",
        "\n",
        "  def __init__(self, w):\n",
        "    self.w = w\n",
        "\n",
        "  def forward(self, x):\n",
        "    return self.w * x\n",
        "\n",
        "# class 개념 오래되서 기억 안나는 부분 복습해놓기     \n",
        "\n",
        "def cost(h,x,y):\n",
        "  error= 0\n",
        "  for i in range(len(X)):\n",
        "    error +=(h.forward(X[i])-Y[i])**2\n",
        "    #print(error)\n",
        "  error=error/len(X)\n",
        "  return error\n",
        "\n",
        "h=H(4)\n",
        "# H(x)=4x 라는 가설을 설정 \n",
        "\n",
        "cost(h,X,Y)\n",
        "\n",
        "\n"
      ],
      "execution_count": 7,
      "outputs": [
        {
          "output_type": "execute_result",
          "data": {
            "text/plain": [
              "222.2"
            ]
          },
          "metadata": {},
          "execution_count": 7
        }
      ]
    },
    {
      "cell_type": "markdown",
      "metadata": {
        "id": "amGnxbIE3Tps"
      },
      "source": [
        "Hypothesis 생성, cost functino 생성 , w가 4 인경우에 대한 error = 222.2"
      ]
    },
    {
      "cell_type": "code",
      "metadata": {
        "colab": {
          "base_uri": "https://localhost:8080/",
          "height": 189
        },
        "id": "xOY09kfr3NR5",
        "outputId": "6ec7d452-916e-486d-a465-b38415120d5d"
      },
      "source": [
        "list_w=[]\n",
        "list_c=[]\n",
        "\n",
        "for i in range(-100, 100):\n",
        "  w=i*0.1 \n",
        "  h=H(w)\n",
        "  c=cost(h,X,Y)\n",
        "  list_w.append(w)\n",
        "  list_c.append(c)\n",
        "\n",
        "plt.figure(figsize=(2,2))\n",
        "plt.xlabel(\"w\")\n",
        "plt.ylabel(\"cost\")\n",
        "plt.plot(list_w,list_c)\n"
      ],
      "execution_count": 8,
      "outputs": [
        {
          "output_type": "execute_result",
          "data": {
            "text/plain": [
              "[<matplotlib.lines.Line2D at 0x7ff55021ae90>]"
            ]
          },
          "metadata": {},
          "execution_count": 8
        },
        {
          "output_type": "display_data",
          "data": {
            "image/png": "[encoded data removed]",
            "text/plain": [
              "<Figure size 144x144 with 1 Axes>"
            ]
          },
          "metadata": {
            "needs_background": "light"
          }
        }
      ]
    },
    {
      "cell_type": "markdown",
      "metadata": {
        "id": "lY0SeVTV8IsF"
      },
      "source": [
        "w를 0.1~10까지 넣고 각각의 hypothesis에 따른 cost function의 값을 plot 함\n"
      ]
    },
    {
      "cell_type": "code",
      "metadata": {
        "colab": {
          "base_uri": "https://localhost:8080/"
        },
        "id": "NjK8MEEW86Jn",
        "outputId": "8c959e19-54ca-4b3e-8339-68b1961ab778"
      },
      "source": [
        "def cal_grad(w,cost):\n",
        "  h=H(w)\n",
        "  cost1 = cost(h,X,Y)\n",
        "  eps = 0.001\n",
        "  h=H(w+eps)\n",
        "  cost2=cost(h,X,Y)\n",
        "  dcost = cost2-cost1\n",
        "  dw=eps\n",
        "  grad=dcost/dw\n",
        "  return grad\n",
        "\n",
        "\n",
        "w=4\n",
        "lr=0.01\n",
        "# w외 초기값, learning rate 의 초기값\n",
        "\n",
        "for i in range(100):\n",
        "  w -= lr*(cal_grad(w,cost))\n",
        "# gradient descent 의 메인 식\n",
        "\n",
        "print(w)\n",
        "\n",
        "\n"
      ],
      "execution_count": 9,
      "outputs": [
        {
          "output_type": "stream",
          "name": "stdout",
          "text": [
            "1.210026315789473\n"
          ]
        }
      ]
    },
    {
      "cell_type": "code",
      "metadata": {
        "colab": {
          "base_uri": "https://localhost:8080/",
          "height": 265
        },
        "id": "OfYjCRiWnzfr",
        "outputId": "28ee7483-5ad5-44b5-cffc-c58e5b5a16a2"
      },
      "source": [
        "x1=[a for a in range(10)]\n",
        "y1=[]\n",
        "for i in range(len(x1)):\n",
        "  y1.append(w*x1[i])\n",
        "\n",
        "plt.plot(x1,y1)\n",
        "plt.scatter(X,Y)\n",
        "plt.show()"
      ],
      "execution_count": 20,
      "outputs": [
        {
          "output_type": "display_data",
          "data": {
            "image/png": "[encoded data removed]",
            "text/plain": [
              "<Figure size 432x288 with 1 Axes>"
            ]
          },
          "metadata": {
            "needs_background": "light"
          }
        }
      ]
    },
    {
      "cell_type": "markdown",
      "metadata": {
        "id": "YdufJYuNpX5Y"
      },
      "source": [
        "실제 완성된 Hypothesis y=1.2100 *x 의 갑과 실제 값들의 scattering 비교 \n"
      ]
    }
  ]
}